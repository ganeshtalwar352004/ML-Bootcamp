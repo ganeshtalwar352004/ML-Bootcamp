{
 "cells": [
  {
   "cell_type": "code",
   "execution_count": 1,
   "id": "8297a4c1",
   "metadata": {},
   "outputs": [],
   "source": [
    "import numpy as np\n",
    "import pandas as pd\n",
    "from mlal1 import *"
   ]
  },
  {
   "cell_type": "code",
   "execution_count": 2,
   "id": "a68bccb0",
   "metadata": {},
   "outputs": [
    {
     "name": "stdout",
     "output_type": "stream",
     "text": [
      "[[-218.0162315 ]\n",
      " [ 154.140849  ]\n",
      " [ 394.8497011 ]\n",
      " ...\n",
      " [ -25.33370394]\n",
      " [ 332.1585521 ]\n",
      " [-137.96463   ]]\n",
      "[[-2.84685568e+02  2.84567363e+02  1.84627063e+01 ... -1.20010842e+01\n",
      "   8.39780551e+01  7.37317448e+02]\n",
      " [-4.28480005e+02  3.07240676e+02  2.26328973e+01 ...  1.80573704e+01\n",
      "  -5.55216301e+01  7.75407458e+02]\n",
      " [-2.58008787e+01  2.37433759e+02 -4.67504670e-01 ...  7.06526251e+01\n",
      "   3.02121708e+02  8.10402101e+02]\n",
      " ...\n",
      " [-1.00858862e+02  2.26896656e+02  5.82696954e+01 ... -1.66559902e+01\n",
      "   5.55231130e+01  8.10646514e+02]\n",
      " [ 2.64775537e+02  1.91060398e+02  2.94328502e+01 ... -2.83728255e+01\n",
      "  -3.74959770e+01  8.15302612e+02]\n",
      " [ 7.66704764e+01  2.66193562e+02 -3.37267149e+01 ...  1.48479914e+01\n",
      "   1.21898649e+02  7.53591309e+02]]\n"
     ]
    }
   ],
   "source": [
    "pdf=pd.read_csv('linear_train.csv')\n",
    "arr=pdf.to_numpy()\n",
    "X_train=arr[:,1:21]\n",
    "y_train=arr[:,21:]\n",
    "print(y_train)\n",
    "print(X_train)"
   ]
  },
  {
   "cell_type": "code",
   "execution_count": 3,
   "id": "8a2fe3c0",
   "metadata": {},
   "outputs": [],
   "source": [
    "# def cost_function_linear(x,y,w,b):\n",
    "#     m,n=x.shape\n",
    "  \n",
    "#     cost=0.0\n",
    "# #     for i in range (m):\n",
    "# #         k=((np.dot(w,x[i,:])+b)-y[i,:])**2\n",
    "# #         cost=cost+k\n",
    "# #     cost=(1/(2*m))*cost\n",
    "# #     return cost\n",
    "#     cost=cost+np.sum(((((w@x.T)+b)-y.T)**2),axis=1)\n",
    "#     return cost/(2*m)\n",
    "# def z_score_normalisation(x):\n",
    "#     mu     = np.mean(x, axis=0)                 # mu will have shape (n,)\n",
    "    \n",
    "#     sigma  = np.std(x, axis=0)                  # sigma will have shape (n,)\n",
    "    \n",
    "#     X_norm = (x - mu) / sigma      \n",
    "\n",
    "#     return X_norm\n",
    "# def z_score_normalisation(x):\n",
    "#     m,n=x.shape\n",
    "#     print (n)\n",
    "#     X_nom = np.zeros(shape=(m,n))\n",
    "#     m,n=X_train.shape\n",
    "#     for i in range(n):\n",
    "#         for j in range(m):\n",
    "           \n",
    "#             X_nom[j,i]=(x[j,i]-x[:,i].min())/(x[:,i].max()-x[:,i].min())\n",
    "#     return X_nom"
   ]
  },
  {
   "cell_type": "code",
   "execution_count": 4,
   "id": "56f36a9c",
   "metadata": {},
   "outputs": [
    {
     "name": "stdout",
     "output_type": "stream",
     "text": [
      "[30185.59027051]\n"
     ]
    }
   ],
   "source": [
    "b_init =0\n",
    "w_init =np.array([0,0,0,0,0,0,0,0,0,0,0,0,0,0,0,0,0,0,0,0])\n",
    "z=cost_function_linear(X_train,y_train,w_init,b_init)\n",
    "print(z)\n"
   ]
  },
  {
   "cell_type": "code",
   "execution_count": 5,
   "id": "bad250f4",
   "metadata": {},
   "outputs": [
    {
     "name": "stdout",
     "output_type": "stream",
     "text": [
      "[30185.59027051]\n"
     ]
    }
   ],
   "source": [
    "X_train_2=z_score_normalisation(X_train)\n",
    "\n",
    "z2=cost_function_linear(X_train_2,y_train,w_init,b_init)\n",
    "print(z2)\n"
   ]
  },
  {
   "cell_type": "code",
   "execution_count": 6,
   "id": "15f9c3e4",
   "metadata": {},
   "outputs": [],
   "source": [
    "# def gradient_descent_calculate_linear(x,y,w,b):\n",
    "#     m,n=x.shape\n",
    "#     dw=np.zeros(n)\n",
    "#     db=0.0\n",
    "#     k=[[]]\n",
    "# #     for i in range (n):\n",
    "# #         k=0.0\n",
    "# #         for j in range(m):\n",
    "# #             k=k+((np.dot(w,x[j])+b)-y[j])*x[j,i]\n",
    "# #         dw[i]=k\n",
    "#     p=(w@(x.T)+b)-y.T\n",
    "#     for i in range(n):\n",
    "#         k=np.sum(np.dot(p,x[:,i]),axis=0)\n",
    "#         dw[i]=k\n",
    "# #     for i in range(m):\n",
    "# #         db=db+((np.dot(w,x[j])+b)-y[j])\n",
    "#     db=np.sum((x@(w.T)+b)-y.T)\n",
    "#     return dw/m,db/m\n",
    "# def gradient_linear(x,y,win,bin,alpha,iter,gradient_descent_calculate_linear):\n",
    "#     for i in range(iter):\n",
    "#             dw_1,db_1=gradient_descent_calculate_linear(x,y,win,bin)\n",
    "#     win=win-(alpha*dw_1)\n",
    "#     bin=bin-(alpha*db_1)\n",
    "#     return win,bin"
   ]
  },
  {
   "cell_type": "code",
   "execution_count": 7,
   "id": "0929048a",
   "metadata": {},
   "outputs": [
    {
     "name": "stdout",
     "output_type": "stream",
     "text": [
      "[-69.70499238 -64.23145489 -94.15917072  -6.56309129 -19.24254531\n",
      " -25.09606881 -74.33020103 -30.36006591 -22.55548465 -94.52375152\n",
      " -46.12203928 -36.13185643   5.49153383 -84.34619692 -84.34619692\n",
      " -48.78005328 -20.69883113 -31.80485566 -35.75766233 -32.12509699]\n",
      "-2.4839980673998414\n"
     ]
    }
   ],
   "source": [
    "r,t=gradient_descent_calculate_linear(X_train_2,y_train,w_init,b_init)\n",
    "print(r)\n",
    "print(t)"
   ]
  },
  {
   "cell_type": "code",
   "execution_count": 8,
   "id": "f941eff3",
   "metadata": {},
   "outputs": [
    {
     "name": "stdout",
     "output_type": "stream",
     "text": [
      "[70.02158744 65.9921131  96.494269    3.13421212 19.26826666 25.3830444\n",
      " 71.85898647 30.27677282 21.05391716 92.22823234 40.658425   36.47267457\n",
      "  0.3876866  41.44195393 41.44195156 46.68554017 21.26930115 31.29425231\n",
      " 34.16979635 35.27817057]\n",
      "2.4839980673995394\n"
     ]
    }
   ],
   "source": [
    "i=10000\n",
    "\n",
    "\n",
    "alpha=0.1\n",
    "q,s=gradient_linear(X_train_2,y_train,w_init,b_init,alpha,i,gradient_descent_calculate_linear)\n",
    "print(q)\n",
    "print(s)\n"
   ]
  },
  {
   "cell_type": "code",
   "execution_count": 9,
   "id": "656c9f8e",
   "metadata": {},
   "outputs": [
    {
     "name": "stdout",
     "output_type": "stream",
     "text": [
      "[4714.07834306]\n"
     ]
    }
   ],
   "source": [
    "z3=cost_function_linear(X_train_2,y_train,q,s)\n",
    "print(z3)\n"
   ]
  },
  {
   "cell_type": "code",
   "execution_count": 10,
   "id": "b1549c5f",
   "metadata": {},
   "outputs": [],
   "source": [
    "def output_label(x,w,b):\n",
    "    label=[]\n",
    "    m,n=x.shape\n",
    "    for i in range(m):\n",
    "        f_x=(np.dot(w,x[i]))+b\n",
    "        label.insert(i,f_x)\n",
    "    pdf['label1']=label\n",
    "    return pdf"
   ]
  },
  {
   "cell_type": "code",
   "execution_count": 11,
   "id": "7402e004",
   "metadata": {},
   "outputs": [
    {
     "name": "stdout",
     "output_type": "stream",
     "text": [
      "        label      label1\n",
      "0 -218.016232 -185.044879\n",
      "1  154.140849   11.399374\n",
      "2  394.849701  478.685982\n",
      "3  -83.932183   25.873378\n",
      "4 -120.640357  -94.899419\n",
      "(3439, 2)\n"
     ]
    }
   ],
   "source": [
    "X=output_label(X_train_2,q,s)\n",
    "X1=X[['label','label1']]\n",
    "print(X1.head(5))\n",
    "x11=X1.to_numpy()\n",
    "print(x11.shape)\n"
   ]
  },
  {
   "cell_type": "code",
   "execution_count": 12,
   "id": "75f4c230",
   "metadata": {},
   "outputs": [],
   "source": [
    "def calculate_r2(actual_target_values,predicted_target_values):\n",
    "    sum_squared_residuals=np.sum(np.square(predicted_target_values-actual_target_values))\n",
    "    sum_squares=np.sum(np.square(np.mean(actual_target_values)-actual_target_values))\n",
    "    r2=1-(sum_squared_residuals/sum_squares)\n",
    "    return r2"
   ]
  },
  {
   "cell_type": "code",
   "execution_count": 13,
   "id": "c9435069",
   "metadata": {},
   "outputs": [
    {
     "name": "stdout",
     "output_type": "stream",
     "text": [
      "0.8438142122380455\n"
     ]
    }
   ],
   "source": [
    "r2_score=calculate_r2(x11[:,0],x11[:,1])\n",
    "print(r2_score)"
   ]
  },
  {
   "cell_type": "code",
   "execution_count": 14,
   "id": "830f6d40",
   "metadata": {},
   "outputs": [
    {
     "name": "stdout",
     "output_type": "stream",
     "text": [
      "[[96396.]\n",
      " [80166.]\n",
      " [20516.]\n",
      " ...\n",
      " [99637.]\n",
      " [84616.]\n",
      " [66210.]]\n",
      "[[ 146.7906408   223.7118057    -0.88137077 ...    4.88054597\n",
      "   125.7855507   800.2047723 ]\n",
      " [  33.25365297  285.9352287    -3.35261115 ...   30.74826423\n",
      "   130.8324214   736.1191433 ]\n",
      " [ 180.5317987   208.4203434     9.84618776 ...  -44.22657541\n",
      "     7.93928048  833.6567377 ]\n",
      " ...\n",
      " [-208.0621499   218.7884706    -9.15764925 ...   -5.94135997\n",
      "   -67.82122337  811.0223757 ]\n",
      " [ 246.7726162   229.3481541    54.29351768 ...   67.34885785\n",
      "   363.3473355   748.9426883 ]\n",
      " [ 151.8982537   261.236986    -85.46693489 ...    8.9994506\n",
      "   -22.70322019  790.4670715 ]]\n"
     ]
    }
   ],
   "source": [
    "pdf2=pd.read_csv(\"linear_test_data.csv\")\n",
    "arr2=pdf2.to_numpy()\n",
    "X_test=arr2[:,1:21]\n",
    "id_test=arr2[:,0:1]\n",
    "print(id_test)\n",
    "print(X_test)"
   ]
  },
  {
   "cell_type": "code",
   "execution_count": 15,
   "id": "1274c885",
   "metadata": {},
   "outputs": [],
   "source": [
    "def output_label(x,w,b):\n",
    "    label=[]\n",
    "    m,n=x.shape\n",
    "    for i in range(m):\n",
    "        f_x=(np.dot(w,x[i]))+b\n",
    "        label.insert(i,f_x)\n",
    "    pdf2['label1']=label\n",
    "\n",
    "# printable=pdf3[['id','label1']]\n",
    "    return pdf2"
   ]
  },
  {
   "cell_type": "code",
   "execution_count": 16,
   "id": "9069ac83",
   "metadata": {},
   "outputs": [
    {
     "name": "stdout",
     "output_type": "stream",
     "text": [
      "     ids         label1\n",
      "0  96396  172963.674665\n",
      "1  80166  150915.629089\n",
      "2  20516   90340.084699\n",
      "3  88881  140238.148324\n",
      "4  69115  140314.795728\n"
     ]
    }
   ],
   "source": [
    "X=output_label(X_test,q,s)\n",
    "X1=X[['ids','label1']]\n",
    "print(X1.head(5))"
   ]
  },
  {
   "cell_type": "code",
   "execution_count": null,
   "id": "3897b9c9",
   "metadata": {},
   "outputs": [],
   "source": []
  }
 ],
 "metadata": {
  "kernelspec": {
   "display_name": "Python 3 (ipykernel)",
   "language": "python",
   "name": "python3"
  },
  "language_info": {
   "codemirror_mode": {
    "name": "ipython",
    "version": 3
   },
   "file_extension": ".py",
   "mimetype": "text/x-python",
   "name": "python",
   "nbconvert_exporter": "python",
   "pygments_lexer": "ipython3",
   "version": "3.11.1"
  }
 },
 "nbformat": 4,
 "nbformat_minor": 5
}
