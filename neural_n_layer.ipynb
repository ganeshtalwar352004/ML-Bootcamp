{
 "cells": [
  {
   "cell_type": "code",
   "execution_count": 1,
   "id": "5d51da86",
   "metadata": {},
   "outputs": [],
   "source": [
    "import numpy as np\n",
    "import pandas as pd\n",
    "import matplotlib.pyplot as plt\n",
    "\n",
    "train_df = pd.read_csv(\"classification_train.csv\")\n",
    "test_df = pd.read_csv(\"classification_test.csv\")\n",
    "# Extract the features and labels from the datasets\n",
    "train_features = train_df.iloc[:, 2:].values\n",
    "train_labels = train_df.iloc[:, 1].values\n",
    "y2=train_df[['label']]\n",
    "test_features = test_df.iloc[:, 1:].values\n",
    "test_labels = test_df.iloc[:, 0].values"
   ]
  },
  {
   "cell_type": "code",
   "execution_count": 2,
   "id": "7610a51d",
   "metadata": {},
   "outputs": [
    {
     "name": "stdout",
     "output_type": "stream",
     "text": [
      "(30000,)\n"
     ]
    }
   ],
   "source": [
    "print(train_labels.shape)"
   ]
  },
  {
   "cell_type": "code",
   "execution_count": 3,
   "id": "5a03dd05",
   "metadata": {},
   "outputs": [],
   "source": [
    "y11=y2.copy()\n",
    "y11[y11!=1] =0\n",
    "y11[y11==1] =1\n",
    "y111= y11[\"label\"].tolist()\n",
    "# print(y111)"
   ]
  },
  {
   "cell_type": "code",
   "execution_count": 4,
   "id": "f9281e44",
   "metadata": {},
   "outputs": [],
   "source": [
    "y22=y2.copy()\n",
    "y22[y22!=2] =0\n",
    "y22[y22==2] =1\n",
    "\n",
    "y222= y22[\"label\"].tolist()"
   ]
  },
  {
   "cell_type": "code",
   "execution_count": 5,
   "id": "9b79223e",
   "metadata": {},
   "outputs": [],
   "source": [
    "y33=y2.copy()\n",
    "y33[y33!=3] =0\n",
    "y33[y33==3] =1\n",
    "y333= y33[\"label\"].tolist()"
   ]
  },
  {
   "cell_type": "code",
   "execution_count": 6,
   "id": "be748abe",
   "metadata": {},
   "outputs": [],
   "source": [
    "y00=y2.copy()\n",
    "y0000=y2.copy()\n",
    "y00[y00==0] =1\n",
    "y00[y0000!=0] =0\n",
    "\n",
    "y000= y00[\"label\"].tolist()"
   ]
  },
  {
   "cell_type": "code",
   "execution_count": 7,
   "id": "847a937e",
   "metadata": {},
   "outputs": [],
   "source": [
    "y44=y2.copy()\n",
    "y44[y44!=4] =0\n",
    "y44[y44==4] =1\n",
    "y444= y44[\"label\"].tolist()"
   ]
  },
  {
   "cell_type": "code",
   "execution_count": 8,
   "id": "997ebae0",
   "metadata": {},
   "outputs": [],
   "source": [
    "y55=y2.copy()\n",
    "y55[y55!=5] =0\n",
    "y55[y55==5] =1\n",
    "y555= y55[\"label\"].tolist()"
   ]
  },
  {
   "cell_type": "code",
   "execution_count": 9,
   "id": "444c9e11",
   "metadata": {},
   "outputs": [],
   "source": [
    "y66=y2.copy()\n",
    "y66[y66!=6] =0\n",
    "y66[y66==6] =1\n",
    "y666= y66[\"label\"].tolist()"
   ]
  },
  {
   "cell_type": "code",
   "execution_count": 10,
   "id": "7b2fe1bc",
   "metadata": {},
   "outputs": [],
   "source": [
    "y77=y2.copy()\n",
    "y77[y77!=7] =0\n",
    "y77[y77==7] =1\n",
    "y777= y77[\"label\"].tolist()"
   ]
  },
  {
   "cell_type": "code",
   "execution_count": 11,
   "id": "1da77cde",
   "metadata": {},
   "outputs": [],
   "source": [
    "y88=y2.copy()\n",
    "y88[y88!=8] =0\n",
    "y88[y88==8] =1\n",
    "y888= y88[\"label\"].tolist()"
   ]
  },
  {
   "cell_type": "code",
   "execution_count": 12,
   "id": "0b394646",
   "metadata": {},
   "outputs": [],
   "source": [
    "y99=y2.copy()\n",
    "y99[y99!=9] =0\n",
    "y99[y99==9] =1\n",
    "y999= y99[\"label\"].tolist()"
   ]
  },
  {
   "cell_type": "code",
   "execution_count": 13,
   "id": "21b6a599",
   "metadata": {},
   "outputs": [],
   "source": [
    "df = pd.DataFrame()"
   ]
  },
  {
   "cell_type": "code",
   "execution_count": 14,
   "id": "2c4c881a",
   "metadata": {
    "scrolled": false
   },
   "outputs": [
    {
     "data": {
      "text/html": [
       "<div>\n",
       "<style scoped>\n",
       "    .dataframe tbody tr th:only-of-type {\n",
       "        vertical-align: middle;\n",
       "    }\n",
       "\n",
       "    .dataframe tbody tr th {\n",
       "        vertical-align: top;\n",
       "    }\n",
       "\n",
       "    .dataframe thead th {\n",
       "        text-align: right;\n",
       "    }\n",
       "</style>\n",
       "<table border=\"1\" class=\"dataframe\">\n",
       "  <thead>\n",
       "    <tr style=\"text-align: right;\">\n",
       "      <th></th>\n",
       "      <th>y00</th>\n",
       "      <th>y11</th>\n",
       "      <th>y22</th>\n",
       "      <th>y33</th>\n",
       "      <th>y44</th>\n",
       "      <th>y55</th>\n",
       "      <th>y66</th>\n",
       "      <th>y77</th>\n",
       "      <th>y88</th>\n",
       "      <th>y99</th>\n",
       "    </tr>\n",
       "  </thead>\n",
       "  <tbody>\n",
       "    <tr>\n",
       "      <th>0</th>\n",
       "      <td>0</td>\n",
       "      <td>0</td>\n",
       "      <td>0</td>\n",
       "      <td>0</td>\n",
       "      <td>0</td>\n",
       "      <td>0</td>\n",
       "      <td>0</td>\n",
       "      <td>0</td>\n",
       "      <td>1</td>\n",
       "      <td>0</td>\n",
       "    </tr>\n",
       "    <tr>\n",
       "      <th>1</th>\n",
       "      <td>0</td>\n",
       "      <td>0</td>\n",
       "      <td>0</td>\n",
       "      <td>0</td>\n",
       "      <td>1</td>\n",
       "      <td>0</td>\n",
       "      <td>0</td>\n",
       "      <td>0</td>\n",
       "      <td>0</td>\n",
       "      <td>0</td>\n",
       "    </tr>\n",
       "    <tr>\n",
       "      <th>2</th>\n",
       "      <td>0</td>\n",
       "      <td>1</td>\n",
       "      <td>0</td>\n",
       "      <td>0</td>\n",
       "      <td>0</td>\n",
       "      <td>0</td>\n",
       "      <td>0</td>\n",
       "      <td>0</td>\n",
       "      <td>0</td>\n",
       "      <td>0</td>\n",
       "    </tr>\n",
       "    <tr>\n",
       "      <th>3</th>\n",
       "      <td>0</td>\n",
       "      <td>0</td>\n",
       "      <td>0</td>\n",
       "      <td>0</td>\n",
       "      <td>0</td>\n",
       "      <td>0</td>\n",
       "      <td>0</td>\n",
       "      <td>0</td>\n",
       "      <td>1</td>\n",
       "      <td>0</td>\n",
       "    </tr>\n",
       "    <tr>\n",
       "      <th>4</th>\n",
       "      <td>0</td>\n",
       "      <td>0</td>\n",
       "      <td>1</td>\n",
       "      <td>0</td>\n",
       "      <td>0</td>\n",
       "      <td>0</td>\n",
       "      <td>0</td>\n",
       "      <td>0</td>\n",
       "      <td>0</td>\n",
       "      <td>0</td>\n",
       "    </tr>\n",
       "    <tr>\n",
       "      <th>...</th>\n",
       "      <td>...</td>\n",
       "      <td>...</td>\n",
       "      <td>...</td>\n",
       "      <td>...</td>\n",
       "      <td>...</td>\n",
       "      <td>...</td>\n",
       "      <td>...</td>\n",
       "      <td>...</td>\n",
       "      <td>...</td>\n",
       "      <td>...</td>\n",
       "    </tr>\n",
       "    <tr>\n",
       "      <th>29995</th>\n",
       "      <td>0</td>\n",
       "      <td>0</td>\n",
       "      <td>0</td>\n",
       "      <td>1</td>\n",
       "      <td>0</td>\n",
       "      <td>0</td>\n",
       "      <td>0</td>\n",
       "      <td>0</td>\n",
       "      <td>0</td>\n",
       "      <td>0</td>\n",
       "    </tr>\n",
       "    <tr>\n",
       "      <th>29996</th>\n",
       "      <td>0</td>\n",
       "      <td>0</td>\n",
       "      <td>0</td>\n",
       "      <td>0</td>\n",
       "      <td>1</td>\n",
       "      <td>0</td>\n",
       "      <td>0</td>\n",
       "      <td>0</td>\n",
       "      <td>0</td>\n",
       "      <td>0</td>\n",
       "    </tr>\n",
       "    <tr>\n",
       "      <th>29997</th>\n",
       "      <td>0</td>\n",
       "      <td>0</td>\n",
       "      <td>0</td>\n",
       "      <td>0</td>\n",
       "      <td>0</td>\n",
       "      <td>0</td>\n",
       "      <td>0</td>\n",
       "      <td>0</td>\n",
       "      <td>0</td>\n",
       "      <td>1</td>\n",
       "    </tr>\n",
       "    <tr>\n",
       "      <th>29998</th>\n",
       "      <td>0</td>\n",
       "      <td>0</td>\n",
       "      <td>0</td>\n",
       "      <td>0</td>\n",
       "      <td>1</td>\n",
       "      <td>0</td>\n",
       "      <td>0</td>\n",
       "      <td>0</td>\n",
       "      <td>0</td>\n",
       "      <td>0</td>\n",
       "    </tr>\n",
       "    <tr>\n",
       "      <th>29999</th>\n",
       "      <td>0</td>\n",
       "      <td>0</td>\n",
       "      <td>0</td>\n",
       "      <td>0</td>\n",
       "      <td>0</td>\n",
       "      <td>0</td>\n",
       "      <td>1</td>\n",
       "      <td>0</td>\n",
       "      <td>0</td>\n",
       "      <td>0</td>\n",
       "    </tr>\n",
       "  </tbody>\n",
       "</table>\n",
       "<p>30000 rows × 10 columns</p>\n",
       "</div>"
      ],
      "text/plain": [
       "       y00  y11  y22  y33  y44  y55  y66  y77  y88  y99\n",
       "0        0    0    0    0    0    0    0    0    1    0\n",
       "1        0    0    0    0    1    0    0    0    0    0\n",
       "2        0    1    0    0    0    0    0    0    0    0\n",
       "3        0    0    0    0    0    0    0    0    1    0\n",
       "4        0    0    1    0    0    0    0    0    0    0\n",
       "...    ...  ...  ...  ...  ...  ...  ...  ...  ...  ...\n",
       "29995    0    0    0    1    0    0    0    0    0    0\n",
       "29996    0    0    0    0    1    0    0    0    0    0\n",
       "29997    0    0    0    0    0    0    0    0    0    1\n",
       "29998    0    0    0    0    1    0    0    0    0    0\n",
       "29999    0    0    0    0    0    0    1    0    0    0\n",
       "\n",
       "[30000 rows x 10 columns]"
      ]
     },
     "metadata": {},
     "output_type": "display_data"
    }
   ],
   "source": [
    "df['y00']=y000\n",
    "df['y11']=y111\n",
    "df['y22']=y222\n",
    "df['y33']=y333\n",
    "df['y44']=y444\n",
    "df['y55']=y555\n",
    "df['y66']=y666\n",
    "df['y77']=y777\n",
    "df['y88']=y888\n",
    "df['y99']=y999\n",
    "display(df)"
   ]
  },
  {
   "cell_type": "code",
   "execution_count": 15,
   "id": "9218286f",
   "metadata": {},
   "outputs": [
    {
     "name": "stdout",
     "output_type": "stream",
     "text": [
      "(30000, 10)\n"
     ]
    }
   ],
   "source": [
    "Y_train=df.to_numpy()\n",
    "train_labels=Y_train\n",
    "print(train_labels.shape)"
   ]
  },
  {
   "cell_type": "code",
   "execution_count": 16,
   "id": "21b5837a",
   "metadata": {},
   "outputs": [],
   "source": [
    "def derv_relu(Z):\n",
    "    return Z>0"
   ]
  },
  {
   "cell_type": "code",
   "execution_count": 96,
   "id": "ba39e777",
   "metadata": {},
   "outputs": [
    {
     "name": "stdout",
     "output_type": "stream",
     "text": [
      "Epoch 1\n",
      "(30000, 10)\n",
      "2\n",
      "(10, 50)\n",
      "(30000, 50)\n",
      "(30000, 100)\n",
      "1\n",
      "(50, 100)\n"
     ]
    },
    {
     "ename": "ValueError",
     "evalue": "shapes (30000,100) and (50,100) not aligned: 100 (dim 1) != 50 (dim 0)",
     "output_type": "error",
     "traceback": [
      "\u001b[1;31m---------------------------------------------------------------------------\u001b[0m",
      "\u001b[1;31mValueError\u001b[0m                                Traceback (most recent call last)",
      "Cell \u001b[1;32mIn[96], line 63\u001b[0m\n\u001b[0;32m     61\u001b[0m     \u001b[38;5;28mprint\u001b[39m(\u001b[38;5;124m'\u001b[39m\u001b[38;5;124mEpoch\u001b[39m\u001b[38;5;124m'\u001b[39m, epoch\u001b[38;5;241m+\u001b[39m\u001b[38;5;241m1\u001b[39m)\n\u001b[0;32m     62\u001b[0m \u001b[38;5;66;03m#     for i in range(len(train_features)):\u001b[39;00m\n\u001b[1;32m---> 63\u001b[0m     \u001b[43mnn\u001b[49m\u001b[38;5;241;43m.\u001b[39;49m\u001b[43mtrain\u001b[49m\u001b[43m(\u001b[49m\u001b[43mtrain_features\u001b[49m\u001b[43m,\u001b[49m\u001b[43m \u001b[49m\u001b[43mtrain_labels\u001b[49m\u001b[43m)\u001b[49m\n\u001b[0;32m     64\u001b[0m     predictions \u001b[38;5;241m=\u001b[39m nn\u001b[38;5;241m.\u001b[39mpredict(train_features)\n\u001b[0;32m     65\u001b[0m     accuracy \u001b[38;5;241m=\u001b[39m np\u001b[38;5;241m.\u001b[39mmean(predictions \u001b[38;5;241m==\u001b[39m np\u001b[38;5;241m.\u001b[39margmax(train_labels, axis\u001b[38;5;241m=\u001b[39m\u001b[38;5;241m1\u001b[39m))\n",
      "Cell \u001b[1;32mIn[96], line 51\u001b[0m, in \u001b[0;36mNeuralNetwork.train\u001b[1;34m(self, X, Y)\u001b[0m\n\u001b[0;32m     49\u001b[0m \u001b[38;5;28;01mdef\u001b[39;00m \u001b[38;5;21mtrain\u001b[39m(\u001b[38;5;28mself\u001b[39m, X, Y):\n\u001b[0;32m     50\u001b[0m     output \u001b[38;5;241m=\u001b[39m \u001b[38;5;28mself\u001b[39m\u001b[38;5;241m.\u001b[39mforward(X)\n\u001b[1;32m---> 51\u001b[0m     \u001b[38;5;28;43mself\u001b[39;49m\u001b[38;5;241;43m.\u001b[39;49m\u001b[43mbackward\u001b[49m\u001b[43m(\u001b[49m\u001b[43mX\u001b[49m\u001b[43m,\u001b[49m\u001b[43m \u001b[49m\u001b[43mY\u001b[49m\u001b[43m,\u001b[49m\u001b[43m \u001b[49m\u001b[43moutput\u001b[49m\u001b[43m)\u001b[49m\n",
      "Cell \u001b[1;32mIn[96], line 39\u001b[0m, in \u001b[0;36mNeuralNetwork.backward\u001b[1;34m(self, X, Y, output)\u001b[0m\n\u001b[0;32m     37\u001b[0m             \u001b[38;5;28mprint\u001b[39m(i\u001b[38;5;241m+\u001b[39m\u001b[38;5;241m1\u001b[39m)\n\u001b[0;32m     38\u001b[0m             \u001b[38;5;28mprint\u001b[39m(\u001b[38;5;28mself\u001b[39m\u001b[38;5;241m.\u001b[39mweights[i\u001b[38;5;241m+\u001b[39m\u001b[38;5;241m1\u001b[39m]\u001b[38;5;241m.\u001b[39mshape)\n\u001b[1;32m---> 39\u001b[0m             error_hidden \u001b[38;5;241m=\u001b[39m \u001b[43mnp\u001b[49m\u001b[38;5;241;43m.\u001b[39;49m\u001b[43mdot\u001b[49m\u001b[43m(\u001b[49m\u001b[43mdelta_output\u001b[49m\u001b[43m,\u001b[49m\u001b[43m \u001b[49m\u001b[38;5;28;43mself\u001b[39;49m\u001b[38;5;241;43m.\u001b[39;49m\u001b[43mweights\u001b[49m\u001b[43m[\u001b[49m\u001b[43mi\u001b[49m\u001b[38;5;241;43m+\u001b[39;49m\u001b[38;5;241;43m1\u001b[39;49m\u001b[43m]\u001b[49m\u001b[43m)\u001b[49m\n\u001b[0;32m     40\u001b[0m             delta_hidden \u001b[38;5;241m=\u001b[39m error_hidden \u001b[38;5;241m*\u001b[39m (\u001b[38;5;241m1\u001b[39m \u001b[38;5;241m-\u001b[39m np\u001b[38;5;241m.\u001b[39mpower(\u001b[38;5;28mself\u001b[39m\u001b[38;5;241m.\u001b[39mactivations[i\u001b[38;5;241m+\u001b[39m\u001b[38;5;241m1\u001b[39m], \u001b[38;5;241m2\u001b[39m))\n\u001b[0;32m     41\u001b[0m \u001b[38;5;66;03m#             delta_hidden = error_hidden * derv_relu(self.activations[i+1])\u001b[39;00m\n",
      "File \u001b[1;32m<__array_function__ internals>:200\u001b[0m, in \u001b[0;36mdot\u001b[1;34m(*args, **kwargs)\u001b[0m\n",
      "\u001b[1;31mValueError\u001b[0m: shapes (30000,100) and (50,100) not aligned: 100 (dim 1) != 50 (dim 0)"
     ]
    }
   ],
   "source": [
    "class NeuralNetwork:\n",
    "    def __init__(self, layer_sizes):\n",
    "        self.num_layers = len(layer_sizes)\n",
    "        self.weights = [np.random.randn(layer_sizes[i+1], layer_sizes[i]) for i in range(self.num_layers-1)]\n",
    "        self.biases = [np.zeros((1, layer_sizes[i+1])) for i in range(self.num_layers-1)]\n",
    "#         print(self.weights[2].shape)\n",
    "#         b=np.zeros((1,50))\n",
    "#         w=np.random.randn(1,10)\n",
    "#         self.biases.append(b)\n",
    "#         self.weights.append(w)\n",
    "    def forward(self, X):\n",
    "        self.activations = [X]\n",
    "        for i in range(self.num_layers-2):\n",
    "            \n",
    "#             10000x10\n",
    "            z = np.dot(self.activations[-1],self.weights[i].T) + self.biases[i]            \n",
    "            a = np.tanh(z)\n",
    "            self.activations.append(a)\n",
    "#             print(a.shape)\n",
    "#             print(self.weights[i].shape)\n",
    "#             print(self.activations[-1].shape)\n",
    "#             print(self.biases[i].shape)\n",
    "        z = np.dot(self.activations[-1], self.weights[-1].T) + self.biases[-1]\n",
    "        \n",
    "        a = np.exp(z) / np.sum(np.exp(z), axis=1, keepdims=True)\n",
    "        self.activations.append(a)\n",
    "        return a\n",
    "    \n",
    "    def backward(self, X, Y, output):\n",
    "        error_output = output - Y\n",
    "        delta_output = error_output\n",
    "        print(delta_output.shape)\n",
    "#         delta_ouput1=delta_output\n",
    "        self.weights[-1] = self.weights[-1] - 0.1 * np.dot(delta_output.T, self.activations[-2])\n",
    "        self.biases[-1] -= 0.1 * np.sum(delta_output, axis=0)\n",
    "        for i in range(self.num_layers-3,-1,-1):\n",
    "            print(i+1)\n",
    "            print(self.weights[i+1].shape)\n",
    "            error_hidden = np.dot(delta_output, self.weights[i+1])\n",
    "            delta_hidden = error_hidden * (1 - np.power(self.activations[i+1], 2))\n",
    "#             delta_hidden = error_hidden * derv_relu(self.activations[i+1])\n",
    "            print(delta_hidden.shape)\n",
    "            self.weights[i] = self.weights[i] - 0.1 * (delta_hidden.T.dot(self.activations[i]))\n",
    "            self.biases[i] = self.biases[i] - 0.1 * np.sum(delta_hidden, axis=0)\n",
    "            delta_output = np.dot(delta_hidden, self.weights[i])\n",
    "            print(delta_output.shape)\n",
    "        \n",
    "            \n",
    "    def train(self, X, Y):\n",
    "        output = self.forward(X)\n",
    "        self.backward(X, Y, output)\n",
    "    \n",
    "    def predict(self, X):\n",
    "        output = self.forward(X)\n",
    "        return np.argmax(output, axis=1)\n",
    "\n",
    "# Create the neural network object and train it on the MNIST dataset\n",
    "nn = NeuralNetwork([784, 100, 50, 10])\n",
    "\n",
    "for epoch in range(10):\n",
    "    print('Epoch', epoch+1)\n",
    "#     for i in range(len(train_features)):\n",
    "    nn.train(train_features, train_labels)\n",
    "    predictions = nn.predict(train_features)\n",
    "    accuracy = np.mean(predictions == np.argmax(train_labels, axis=1))\n",
    "    print('Accuracy:', accuracy)"
   ]
  },
  {
   "cell_type": "code",
   "execution_count": null,
   "id": "84734580",
   "metadata": {},
   "outputs": [],
   "source": []
  },
  {
   "cell_type": "code",
   "execution_count": null,
   "id": "a648c9ca",
   "metadata": {},
   "outputs": [],
   "source": []
  }
 ],
 "metadata": {
  "kernelspec": {
   "display_name": "Python 3 (ipykernel)",
   "language": "python",
   "name": "python3"
  },
  "language_info": {
   "codemirror_mode": {
    "name": "ipython",
    "version": 3
   },
   "file_extension": ".py",
   "mimetype": "text/x-python",
   "name": "python",
   "nbconvert_exporter": "python",
   "pygments_lexer": "ipython3",
   "version": "3.11.1"
  }
 },
 "nbformat": 4,
 "nbformat_minor": 5
}
